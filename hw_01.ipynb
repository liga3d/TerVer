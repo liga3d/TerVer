{
 "cells": [
  {
   "cell_type": "markdown",
   "metadata": {},
   "source": [
    "__Задача 1__\n",
    "\n",
    "Из колоды в 52 карты вынимают случайным образом 4 карты. Найти число исходов, соответствующих тому, что был вытянут хотя бы один туз."
   ]
  },
  {
   "cell_type": "code",
   "execution_count": 3,
   "metadata": {},
   "outputs": [],
   "source": [
    "import numpy as np"
   ]
  },
  {
   "cell_type": "code",
   "execution_count": 4,
   "metadata": {},
   "outputs": [],
   "source": [
    "def combinations(n, k):\n",
    "    return np.math.factorial(n) // (np.math.factorial(k) * np.math.factorial(n - k))"
   ]
  },
  {
   "cell_type": "markdown",
   "metadata": {},
   "source": [
    "_формулировка \"хотя бы один\" подразумевает события что вытянут: 1 туз, 2 туза, 3 туза и 4 туза:_"
   ]
  },
  {
   "cell_type": "code",
   "execution_count": 6,
   "metadata": {},
   "outputs": [
    {
     "name": "stdout",
     "output_type": "stream",
     "text": [
      "Число исходов: 76145\n"
     ]
    }
   ],
   "source": [
    "p = []\n",
    "\n",
    "for i in range(1, 5):\n",
    "    p_temp = combinations(4, i) * combinations(48, 4-i)\n",
    "    p.append(p_temp)\n",
    "\n",
    "print(f'Число исходов: {sum(p)}')"
   ]
  },
  {
   "cell_type": "markdown",
   "metadata": {},
   "source": [
    "__Задача 2__\n",
    "\n",
    "Семь человек рассаживаются наудачу на скамейке. Какова вероятность того, что рядом будут сидеть: а) два определённых человека? б) три определённых человека?"
   ]
  },
  {
   "cell_type": "markdown",
   "metadata": {},
   "source": [
    "_В случае а) рядом с одним человеком должен сидеть его сосед. получается из 7 мест \"спаренных\" всего 6. \n",
    "как размещать друзей_  "
   ]
  },
  {
   "cell_type": "code",
   "execution_count": 8,
   "metadata": {},
   "outputs": [],
   "source": [
    "def arrangements(n, k):\n",
    "    return np.math.factorial(n) // np.math.factorial(n - k)"
   ]
  },
  {
   "cell_type": "code",
   "execution_count": 11,
   "metadata": {},
   "outputs": [],
   "source": [
    "def permutations(n):\n",
    "    return np.math.factorial(n)"
   ]
  },
  {
   "cell_type": "code",
   "execution_count": 23,
   "metadata": {},
   "outputs": [
    {
     "name": "stdout",
     "output_type": "stream",
     "text": [
      "Вероятность в случае 2-х соседей: 0.2857142857142857\n"
     ]
    }
   ],
   "source": [
    "#число исходов интересующего нас события:\n",
    "m = arrangements(6, 1) * permutations(2) * permutations(5)\n",
    "#всего событий:\n",
    "n = permutations(7)\n",
    "\n",
    "p = m/n\n",
    "print(f'Вероятность в случае 2-х соседей: {p}')"
   ]
  },
  {
   "cell_type": "code",
   "execution_count": 22,
   "metadata": {},
   "outputs": [
    {
     "name": "stdout",
     "output_type": "stream",
     "text": [
      "Вероятность в случае 3-х соседей: 0.14285714285714285\n"
     ]
    }
   ],
   "source": [
    "m = arrangements(5, 1) * permutations(3) * permutations(4)\n",
    "#всего событий:\n",
    "n = permutations(7)\n",
    "\n",
    "p = m/n\n",
    "print(f'Вероятность в случае 3-х соседей: {p}')"
   ]
  },
  {
   "cell_type": "markdown",
   "metadata": {},
   "source": [
    "__Задача 3__\n",
    "\n",
    "Из 60 вопросов, входящих в экзаменационные билеты, студент знает 50. Какова вероятность того, что среди трёх наугад выбранных вопросов студент знает: а) все? б) два?\n"
   ]
  },
  {
   "cell_type": "markdown",
   "metadata": {},
   "source": [
    "_в случае а)_"
   ]
  },
  {
   "cell_type": "code",
   "execution_count": 16,
   "metadata": {},
   "outputs": [
    {
     "name": "stdout",
     "output_type": "stream",
     "text": [
      "вероятность что студент знает все 0.5727644652250146\n"
     ]
    }
   ],
   "source": [
    "#число исходов нужных нам\n",
    "m = arrangements(50, 3)\n",
    "#число исходов всего\n",
    "n = arrangements(60, 3)\n",
    "\n",
    "p = m/n\n",
    "print(f'вероятность что студент знает все {p}')"
   ]
  },
  {
   "cell_type": "markdown",
   "metadata": {},
   "source": [
    "_в случае б)_"
   ]
  },
  {
   "cell_type": "code",
   "execution_count": 17,
   "metadata": {},
   "outputs": [
    {
     "name": "stdout",
     "output_type": "stream",
     "text": [
      "вероятность что студент знает 2: 0.11932593025521138\n"
     ]
    }
   ],
   "source": [
    "m = arrangements(50, 2) * arrangements(10, 1)\n",
    "n = arrangements(60, 3)\n",
    "\n",
    "p = m/n\n",
    "print(f'вероятность что студент знает 2: {p}')"
   ]
  },
  {
   "cell_type": "markdown",
   "metadata": {},
   "source": [
    "__Задача 4__\n",
    "\n",
    "Бросается игральная кость. Пусть событие `A` - появление чётного числа, событие `B` - появление числа больше трёх. Являются ли эти события независимыми?\n"
   ]
  },
  {
   "cell_type": "markdown",
   "metadata": {},
   "source": [
    "_если выпадает число больше 3х (4,5,6) - то среди них 2 четных и 1 нечетное и наоборот_"
   ]
  },
  {
   "cell_type": "markdown",
   "metadata": {},
   "source": [
    "$$P(A)= \\dfrac {1}{2}$$\n",
    "$$P(B)= \\dfrac {1}{2}$$"
   ]
  },
  {
   "cell_type": "markdown",
   "metadata": {},
   "source": [
    "_вероятность появления четного числа, при условии что выпало больше 3х (событие B) (4,6) из (4,5,6)_\n",
    "\n",
    "$$P(A | B) = \\dfrac{2}{3}$$ \n",
    "\n",
    "$$P(A | B) \\neq P(B)$$"
   ]
  },
  {
   "cell_type": "markdown",
   "metadata": {},
   "source": [
    "__события зависимы__"
   ]
  },
  {
   "cell_type": "markdown",
   "metadata": {},
   "source": [
    "__Задача 5__\n",
    "\n",
    "Допустим, имеется некоторая очень редкая болезнь (поражает 0.1% населения). Вы приходите к врачу, вам делают тест на эту болезнь, и тест оказывается положительным. Врач говорит вам, что этот тест верно выявляет 99% больных этой болезнью и всего лишь в 1% случаев даёт ложный положительный ответ.\n",
    "\n",
    "_Вопрос_: какова вероятность, что вы действительно больны ей?\n",
    "\n",
    "_Подсказка_: вновь используйте формулу Байеса с раскрытием знаменателя с помощью формулы полной вероятности."
   ]
  },
  {
   "cell_type": "markdown",
   "metadata": {},
   "source": [
    "_пусть $А$ - событие что мы действительно больны, $B$ - тест дал положительный результат_"
   ]
  },
  {
   "cell_type": "markdown",
   "metadata": {},
   "source": [
    "_тогда $P(A|B) = \\dfrac{P(B|A) * P(A)}{P(B|A) * P(A) + P(B|\\overline{A}) * P(\\overline{A})}$_"
   ]
  },
  {
   "cell_type": "markdown",
   "metadata": {},
   "source": [
    "_по условию $P(B|A) = 0.99$, $P(A) = 0.001$, $P(B|\\overline{A}) = 0.01$_"
   ]
  },
  {
   "cell_type": "code",
   "execution_count": 20,
   "metadata": {},
   "outputs": [
    {
     "name": "stdout",
     "output_type": "stream",
     "text": [
      "вероятность что мы действительно больны при положительном тесте: 0.09016393442622951\n"
     ]
    }
   ],
   "source": [
    "p_A_B = (0.99 * 0.001) / ((0.99 * 0.001) + (0.01 * 0.999))\n",
    "\n",
    "print(f'вероятность что мы действительно больны при положительном тесте: {p_A_B}')"
   ]
  },
  {
   "cell_type": "code",
   "execution_count": null,
   "metadata": {},
   "outputs": [],
   "source": []
  }
 ],
 "metadata": {
  "kernelspec": {
   "display_name": "Python 3",
   "language": "python",
   "name": "python3"
  },
  "language_info": {
   "codemirror_mode": {
    "name": "ipython",
    "version": 3
   },
   "file_extension": ".py",
   "mimetype": "text/x-python",
   "name": "python",
   "nbconvert_exporter": "python",
   "pygments_lexer": "ipython3",
   "version": "3.7.3"
  }
 },
 "nbformat": 4,
 "nbformat_minor": 2
}
